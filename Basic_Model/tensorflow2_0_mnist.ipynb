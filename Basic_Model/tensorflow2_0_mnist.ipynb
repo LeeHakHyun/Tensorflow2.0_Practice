{
  "nbformat": 4,
  "nbformat_minor": 0,
  "metadata": {
    "colab": {
      "name": "tensorflow2.0_mnist.ipynb",
      "version": "0.3.2",
      "provenance": [],
      "include_colab_link": true
    },
    "kernelspec": {
      "name": "python3",
      "display_name": "Python 3"
    }
  },
  "cells": [
    {
      "cell_type": "markdown",
      "metadata": {
        "id": "view-in-github",
        "colab_type": "text"
      },
      "source": [
        "<a href=\"https://colab.research.google.com/github/LeeHakHyun/Tensorflow2.0_Practice/blob/master/Basic_Model/tensorflow2_0_mnist.ipynb\" target=\"_parent\"><img src=\"https://colab.research.google.com/assets/colab-badge.svg\" alt=\"Open In Colab\"/></a>"
      ]
    },
    {
      "cell_type": "markdown",
      "metadata": {
        "id": "ssqsjSLXHo91",
        "colab_type": "text"
      },
      "source": [
        "# [1] tensorflow 2.0 install and load library "
      ]
    },
    {
      "cell_type": "code",
      "metadata": {
        "id": "s0MVYpRoHUhs",
        "colab_type": "code",
        "colab": {
          "base_uri": "https://localhost:8080/",
          "height": 68
        },
        "outputId": "6ee884a8-1ff4-4040-d722-e4bd1db7bfc3"
      },
      "source": [
        "from __future__ import absolute_import, division, print_function, unicode_literals\n",
        "\n",
        "!pip install -q tensorflow-gpu==2.0.0-beta1\n",
        "import tensorflow as tf"
      ],
      "execution_count": 1,
      "outputs": [
        {
          "output_type": "stream",
          "text": [
            "\u001b[K     |████████████████████████████████| 348.9MB 52kB/s \n",
            "\u001b[K     |████████████████████████████████| 501kB 45.7MB/s \n",
            "\u001b[K     |████████████████████████████████| 3.1MB 42.3MB/s \n",
            "\u001b[?25h"
          ],
          "name": "stdout"
        }
      ]
    },
    {
      "cell_type": "markdown",
      "metadata": {
        "id": "FcOyFSYJHzAZ",
        "colab_type": "text"
      },
      "source": [
        "# [2] mnist load and change to float type"
      ]
    },
    {
      "cell_type": "code",
      "metadata": {
        "id": "FLzkLb-OHmAM",
        "colab_type": "code",
        "colab": {
          "base_uri": "https://localhost:8080/",
          "height": 51
        },
        "outputId": "fccf645d-7fd2-479b-ee22-b17e2d374345"
      },
      "source": [
        "mnist = tf.keras.datasets.mnist\n",
        "\n",
        "(x_train, y_train), (x_test, y_test) = mnist.load_data()\n",
        "x_train, x_test = x_train / 255.0, x_test / 255.0"
      ],
      "execution_count": 2,
      "outputs": [
        {
          "output_type": "stream",
          "text": [
            "Downloading data from https://storage.googleapis.com/tensorflow/tf-keras-datasets/mnist.npz\n",
            "11493376/11490434 [==============================] - 0s 0us/step\n"
          ],
          "name": "stdout"
        }
      ]
    },
    {
      "cell_type": "markdown",
      "metadata": {
        "id": "-EgmjmBUHmWn",
        "colab_type": "text"
      },
      "source": [
        "# [3] define model"
      ]
    },
    {
      "cell_type": "code",
      "metadata": {
        "id": "U4D08ba9H51i",
        "colab_type": "code",
        "colab": {}
      },
      "source": [
        "model = tf.keras.models.Sequential([\n",
        "  tf.keras.layers.Flatten(input_shape=(28, 28)),\n",
        "  tf.keras.layers.Dense(128, activation='relu'),\n",
        "  tf.keras.layers.Dropout(0.2),\n",
        "  tf.keras.layers.Dense(10, activation='softmax')\n",
        "])\n",
        "\n",
        "model.compile(optimizer='adam',\n",
        "              loss='sparse_categorical_crossentropy',\n",
        "              metrics=['accuracy'])"
      ],
      "execution_count": 0,
      "outputs": []
    },
    {
      "cell_type": "markdown",
      "metadata": {
        "id": "PvRWAfvMIBZp",
        "colab_type": "text"
      },
      "source": [
        "# [4] start train "
      ]
    },
    {
      "cell_type": "code",
      "metadata": {
        "id": "eauhrox4H-vN",
        "colab_type": "code",
        "colab": {
          "base_uri": "https://localhost:8080/",
          "height": 326
        },
        "outputId": "eace0095-3f74-48e4-ff49-d0d00a092949"
      },
      "source": [
        "model.fit(x_train, y_train, epochs=5)\n",
        "\n",
        "model.evaluate(x_test, y_test)"
      ],
      "execution_count": 4,
      "outputs": [
        {
          "output_type": "stream",
          "text": [
            "WARNING: Logging before flag parsing goes to stderr.\n",
            "W0824 14:55:24.856169 139732951979904 deprecation.py:323] From /usr/local/lib/python3.6/dist-packages/tensorflow/python/ops/math_grad.py:1250: add_dispatch_support.<locals>.wrapper (from tensorflow.python.ops.array_ops) is deprecated and will be removed in a future version.\n",
            "Instructions for updating:\n",
            "Use tf.where in 2.0, which has the same broadcast rule as np.where\n"
          ],
          "name": "stderr"
        },
        {
          "output_type": "stream",
          "text": [
            "Train on 60000 samples\n",
            "Epoch 1/5\n",
            "60000/60000 [==============================] - 6s 99us/sample - loss: 0.2973 - accuracy: 0.9141\n",
            "Epoch 2/5\n",
            "60000/60000 [==============================] - 6s 93us/sample - loss: 0.1439 - accuracy: 0.9573\n",
            "Epoch 3/5\n",
            "60000/60000 [==============================] - 5s 91us/sample - loss: 0.1055 - accuracy: 0.9681\n",
            "Epoch 4/5\n",
            "60000/60000 [==============================] - 6s 92us/sample - loss: 0.0895 - accuracy: 0.9722\n",
            "Epoch 5/5\n",
            "60000/60000 [==============================] - 6s 92us/sample - loss: 0.0746 - accuracy: 0.9771\n",
            "10000/10000 [==============================] - 0s 39us/sample - loss: 0.0718 - accuracy: 0.9773\n"
          ],
          "name": "stdout"
        },
        {
          "output_type": "execute_result",
          "data": {
            "text/plain": [
              "[0.07176820132965223, 0.9773]"
            ]
          },
          "metadata": {
            "tags": []
          },
          "execution_count": 4
        }
      ]
    },
    {
      "cell_type": "code",
      "metadata": {
        "id": "RGnZ_1I0IA28",
        "colab_type": "code",
        "colab": {}
      },
      "source": [
        ""
      ],
      "execution_count": 0,
      "outputs": []
    }
  ]
}