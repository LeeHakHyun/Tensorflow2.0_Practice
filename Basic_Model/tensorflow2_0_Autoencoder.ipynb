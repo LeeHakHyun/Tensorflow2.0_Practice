{
  "nbformat": 4,
  "nbformat_minor": 0,
  "metadata": {
    "colab": {
      "name": "tensorflow2_Autoencoder.ipynb",
      "version": "0.3.2",
      "provenance": [],
      "collapsed_sections": [],
      "include_colab_link": true
    },
    "kernelspec": {
      "name": "python3",
      "display_name": "Python 3"
    },
    "accelerator": "GPU"
  },
  "cells": [
    {
      "cell_type": "markdown",
      "metadata": {
        "id": "view-in-github",
        "colab_type": "text"
      },
      "source": [
        "<a href=\"https://colab.research.google.com/github/LeeHakHyun/Tensorflow2.0_Practice/blob/master/Basic_Model/tensorflow2.0_Autoencoder.ipynb\" target=\"_parent\"><img src=\"https://colab.research.google.com/assets/colab-badge.svg\" alt=\"Open In Colab\"/></a>"
      ]
    },
    {
      "cell_type": "code",
      "metadata": {
        "id": "cireSplvWTee",
        "colab_type": "code",
        "colab": {
          "base_uri": "https://localhost:8080/",
          "height": 576
        },
        "outputId": "fe45d83e-768c-4349-d650-ae1eb564906f"
      },
      "source": [
        "!pip install tensorflow==2.0.0-beta0 \n"
      ],
      "execution_count": 28,
      "outputs": [
        {
          "output_type": "stream",
          "text": [
            "Collecting tensorflow==2.0.0-beta0\n",
            "  Using cached https://files.pythonhosted.org/packages/6c/19/0d0c7f240db7bcd6b83783b9a89a67f38584d100e23ad5ae93114be92232/tensorflow-2.0.0b0-cp36-cp36m-manylinux1_x86_64.whl\n",
            "Requirement already satisfied: wheel>=0.26 in /tensorflow-2.0.0b1/python3.6 (from tensorflow==2.0.0-beta0) (0.33.6)\n",
            "Requirement already satisfied: protobuf>=3.6.1 in /tensorflow-2.0.0b1/python3.6 (from tensorflow==2.0.0-beta0) (3.9.1)\n",
            "Requirement already satisfied: tb-nightly<1.14.0a20190604,>=1.14.0a20190603 in /tensorflow-2.0.0b1/python3.6 (from tensorflow==2.0.0-beta0) (1.14.0a20190603)\n",
            "Requirement already satisfied: grpcio>=1.8.6 in /tensorflow-2.0.0b1/python3.6 (from tensorflow==2.0.0-beta0) (1.23.0)\n",
            "Requirement already satisfied: google-pasta>=0.1.6 in /tensorflow-2.0.0b1/python3.6 (from tensorflow==2.0.0-beta0) (0.1.7)\n",
            "Requirement already satisfied: gast>=0.2.0 in /tensorflow-2.0.0b1/python3.6 (from tensorflow==2.0.0-beta0) (0.2.2)\n",
            "Requirement already satisfied: keras-applications>=1.0.6 in /tensorflow-2.0.0b1/python3.6 (from tensorflow==2.0.0-beta0) (1.0.8)\n",
            "Requirement already satisfied: keras-preprocessing>=1.0.5 in /tensorflow-2.0.0b1/python3.6 (from tensorflow==2.0.0-beta0) (1.1.0)\n",
            "Requirement already satisfied: tf-estimator-nightly<1.14.0.dev2019060502,>=1.14.0.dev2019060501 in /tensorflow-2.0.0b1/python3.6 (from tensorflow==2.0.0-beta0) (1.14.0.dev2019060501)\n",
            "Requirement already satisfied: wrapt>=1.11.1 in /tensorflow-2.0.0b1/python3.6 (from tensorflow==2.0.0-beta0) (1.11.2)\n",
            "Requirement already satisfied: numpy<2.0,>=1.14.5 in /tensorflow-2.0.0b1/python3.6 (from tensorflow==2.0.0-beta0) (1.17.0)\n",
            "Requirement already satisfied: absl-py>=0.7.0 in /tensorflow-2.0.0b1/python3.6 (from tensorflow==2.0.0-beta0) (0.7.1)\n",
            "Requirement already satisfied: termcolor>=1.1.0 in /tensorflow-2.0.0b1/python3.6 (from tensorflow==2.0.0-beta0) (1.1.0)\n",
            "Requirement already satisfied: astor>=0.6.0 in /tensorflow-2.0.0b1/python3.6 (from tensorflow==2.0.0-beta0) (0.8.0)\n",
            "Requirement already satisfied: six>=1.10.0 in /tensorflow-2.0.0b1/python3.6 (from tensorflow==2.0.0-beta0) (1.12.0)\n",
            "Requirement already satisfied: setuptools in /tensorflow-2.0.0b1/python3.6 (from protobuf>=3.6.1->tensorflow==2.0.0-beta0) (41.2.0)\n",
            "Requirement already satisfied: markdown>=2.6.8 in /tensorflow-2.0.0b1/python3.6 (from tb-nightly<1.14.0a20190604,>=1.14.0a20190603->tensorflow==2.0.0-beta0) (3.1.1)\n",
            "Requirement already satisfied: werkzeug>=0.11.15 in /tensorflow-2.0.0b1/python3.6 (from tb-nightly<1.14.0a20190604,>=1.14.0a20190603->tensorflow==2.0.0-beta0) (0.15.5)\n",
            "Requirement already satisfied: h5py in /tensorflow-2.0.0b1/python3.6 (from keras-applications>=1.0.6->tensorflow==2.0.0-beta0) (2.9.0)\n",
            "Installing collected packages: tensorflow\n",
            "  Found existing installation: tensorflow 2.0.0b1\n",
            "    Uninstalling tensorflow-2.0.0b1:\n",
            "      Successfully uninstalled tensorflow-2.0.0b1\n",
            "Successfully installed tensorflow-2.0.0b0\n"
          ],
          "name": "stdout"
        },
        {
          "output_type": "display_data",
          "data": {
            "application/vnd.colab-display-data+json": {
              "pip_warning": {
                "packages": [
                  "tensorflow"
                ]
              }
            }
          },
          "metadata": {
            "tags": []
          }
        }
      ]
    },
    {
      "cell_type": "code",
      "metadata": {
        "id": "WzvtqHlLWYf8",
        "colab_type": "code",
        "colab": {}
      },
      "source": [
        "try:\n",
        "  # Colab only\n",
        "  %tensorflow_version 2.x\n",
        "except Exception:\n",
        "  pass\n",
        "\n"
      ],
      "execution_count": 0,
      "outputs": []
    },
    {
      "cell_type": "code",
      "metadata": {
        "id": "1kfjIqpzWhe0",
        "colab_type": "code",
        "colab": {
          "base_uri": "https://localhost:8080/",
          "height": 35
        },
        "outputId": "9e13b13e-2e75-437a-e6d5-1e2aab47c8bc"
      },
      "source": [
        "from __future__ import absolute_import, division, print_function, unicode_literals, unicode_literals\n",
        "\n",
        "# tensorflow와 tf.keras를 임포트합니다\n",
        "import tensorflow as tf\n",
        "from tensorflow import keras\n",
        "from tensorflow.keras import layers\n",
        "\n",
        "# 헬퍼(helper) 라이브러리를 임포트합니다\n",
        "import numpy as np\n",
        "import matplotlib.pyplot as plt\n",
        "\n",
        "print(tf.__version__)\n"
      ],
      "execution_count": 30,
      "outputs": [
        {
          "output_type": "stream",
          "text": [
            "2.0.0-beta1\n"
          ],
          "name": "stdout"
        }
      ]
    },
    {
      "cell_type": "code",
      "metadata": {
        "id": "HUgJkLlbWoM0",
        "colab_type": "code",
        "colab": {
          "base_uri": "https://localhost:8080/",
          "height": 53
        },
        "outputId": "14ed3109-e566-4bff-86ac-bbc5ca9f3540"
      },
      "source": [
        "fashion_mnist = keras.datasets.fashion_mnist\n",
        "\n",
        "(train_images, train_labels), (test_images, test_labels) = fashion_mnist.load_data()\n",
        "print(train_images.shape)\n",
        "\n",
        "train_images = train_images/255.0\n",
        "train_images = train_images.reshape((60000, 28, 28, 1))\n",
        "\n",
        "print(train_images.shape)\n"
      ],
      "execution_count": 31,
      "outputs": [
        {
          "output_type": "stream",
          "text": [
            "(60000, 28, 28)\n",
            "(60000, 28, 28, 1)\n"
          ],
          "name": "stdout"
        }
      ]
    },
    {
      "cell_type": "code",
      "metadata": {
        "id": "SmvmIb-xZain",
        "colab_type": "code",
        "colab": {
          "base_uri": "https://localhost:8080/",
          "height": 377
        },
        "outputId": "3e926f30-84fa-4903-f198-56aa518be673"
      },
      "source": [
        "encoder_input  = keras.Input(shape = (28, 28, 1), name = 'img')\n",
        "x              = layers.Conv2D(16, 3, strides = 2, padding='SAME', activation='relu')(encoder_input)\n",
        "x              = layers.BatchNormalization()(x)\n",
        "x              = layers.Conv2D(32, 3, strides = 2, padding='SAME', activation='relu')(x)\n",
        "x              = layers.BatchNormalization()(x)\n",
        "encoder_output = layers.Conv2D(64, 3, strides = 1, padding='SAME', activation='relu')(x)\n",
        "\n",
        "encoder = keras.Model(encoder_input, encoder_output, name = 'encoder')\n",
        "encoder.summary()\n",
        "\n"
      ],
      "execution_count": 32,
      "outputs": [
        {
          "output_type": "stream",
          "text": [
            "Model: \"encoder\"\n",
            "_________________________________________________________________\n",
            "Layer (type)                 Output Shape              Param #   \n",
            "=================================================================\n",
            "img (InputLayer)             [(None, 28, 28, 1)]       0         \n",
            "_________________________________________________________________\n",
            "conv2d_9 (Conv2D)            (None, 14, 14, 16)        160       \n",
            "_________________________________________________________________\n",
            "batch_normalization_1 (Batch (None, 14, 14, 16)        64        \n",
            "_________________________________________________________________\n",
            "conv2d_10 (Conv2D)           (None, 7, 7, 32)          4640      \n",
            "_________________________________________________________________\n",
            "batch_normalization_2 (Batch (None, 7, 7, 32)          128       \n",
            "_________________________________________________________________\n",
            "conv2d_11 (Conv2D)           (None, 7, 7, 64)          18496     \n",
            "=================================================================\n",
            "Total params: 23,488\n",
            "Trainable params: 23,392\n",
            "Non-trainable params: 96\n",
            "_________________________________________________________________\n"
          ],
          "name": "stdout"
        }
      ]
    },
    {
      "cell_type": "code",
      "metadata": {
        "id": "nAlgoha1mpni",
        "colab_type": "code",
        "colab": {
          "base_uri": "https://localhost:8080/",
          "height": 449
        },
        "outputId": "a1503dca-3bdc-4668-9927-56957c410aa2"
      },
      "source": [
        "decoder_input  = keras.Input(shape = (7, 7, 64), name = 'encoding_img');\n",
        "x              = layers.Conv2DTranspose(32, 3, strides = 2, padding='SAME', activation='relu')(decoder_input)\n",
        "x              = layers.BatchNormalization()(x)\n",
        "x              = layers.Conv2DTranspose(16, 3, strides = 2, padding='SAME', activation='relu')(x)\n",
        "x              = layers.BatchNormalization()(x)\n",
        "x              = layers.Conv2D(1, 3, strides = 1, padding='SAME', activation='relu')(x)\n",
        "x              = layers.Conv2D(1, 3, strides = 1, padding='SAME', activation='relu')(x)\n",
        "decoder_output = layers.Conv2D(1, 3, strides = 1, padding='SAME', activation='relu')(x)\n",
        "\n",
        "decoder = keras.Model(decoder_input, decoder_output, name = 'decoder')\n",
        "decoder.summary()"
      ],
      "execution_count": 33,
      "outputs": [
        {
          "output_type": "stream",
          "text": [
            "Model: \"decoder\"\n",
            "_________________________________________________________________\n",
            "Layer (type)                 Output Shape              Param #   \n",
            "=================================================================\n",
            "encoding_img (InputLayer)    [(None, 7, 7, 64)]        0         \n",
            "_________________________________________________________________\n",
            "conv2d_transpose_2 (Conv2DTr (None, 14, 14, 32)        18464     \n",
            "_________________________________________________________________\n",
            "batch_normalization_3 (Batch (None, 14, 14, 32)        128       \n",
            "_________________________________________________________________\n",
            "conv2d_transpose_3 (Conv2DTr (None, 28, 28, 16)        4624      \n",
            "_________________________________________________________________\n",
            "batch_normalization_4 (Batch (None, 28, 28, 16)        64        \n",
            "_________________________________________________________________\n",
            "conv2d_12 (Conv2D)           (None, 28, 28, 1)         145       \n",
            "_________________________________________________________________\n",
            "conv2d_13 (Conv2D)           (None, 28, 28, 1)         10        \n",
            "_________________________________________________________________\n",
            "conv2d_14 (Conv2D)           (None, 28, 28, 1)         10        \n",
            "=================================================================\n",
            "Total params: 23,445\n",
            "Trainable params: 23,349\n",
            "Non-trainable params: 96\n",
            "_________________________________________________________________\n"
          ],
          "name": "stdout"
        }
      ]
    },
    {
      "cell_type": "code",
      "metadata": {
        "id": "aj64F3LGuilh",
        "colab_type": "code",
        "colab": {
          "base_uri": "https://localhost:8080/",
          "height": 269
        },
        "outputId": "e0a31811-4a51-4666-d040-afb930d299df"
      },
      "source": [
        "autoencoder_input = keras.Input(shape = (28, 28, 1), name = 'img')\n",
        "encoding = encoder(autoencoder_input)\n",
        "decoding = decoder(encoding);\n",
        "autoencoder = keras.Model(autoencoder_input, decoding, name = 'autoencoder')\n",
        "\n",
        "autoencoder.summary()\n"
      ],
      "execution_count": 34,
      "outputs": [
        {
          "output_type": "stream",
          "text": [
            "Model: \"autoencoder\"\n",
            "_________________________________________________________________\n",
            "Layer (type)                 Output Shape              Param #   \n",
            "=================================================================\n",
            "img (InputLayer)             [(None, 28, 28, 1)]       0         \n",
            "_________________________________________________________________\n",
            "encoder (Model)              (None, 7, 7, 64)          23488     \n",
            "_________________________________________________________________\n",
            "decoder (Model)              (None, 28, 28, 1)         23445     \n",
            "=================================================================\n",
            "Total params: 46,933\n",
            "Trainable params: 46,741\n",
            "Non-trainable params: 192\n",
            "_________________________________________________________________\n"
          ],
          "name": "stdout"
        }
      ]
    },
    {
      "cell_type": "code",
      "metadata": {
        "id": "9AnvPOonvU4w",
        "colab_type": "code",
        "colab": {
          "base_uri": "https://localhost:8080/",
          "height": 395
        },
        "outputId": "562a1afd-469a-426b-d443-ab0dc2996e80"
      },
      "source": [
        "autoencoder.compile(optimizer=keras.optimizers.Adam(), loss = 'binary_crossentropy');\n",
        "autoencoder.fit(train_images, train_images, batch_size = 64, epochs = 10)\n"
      ],
      "execution_count": 35,
      "outputs": [
        {
          "output_type": "stream",
          "text": [
            "Train on 60000 samples\n",
            "Epoch 1/10\n",
            "60000/60000 [==============================] - 11s 176us/sample - loss: 0.7121\n",
            "Epoch 2/10\n",
            "60000/60000 [==============================] - 10s 160us/sample - loss: 0.3745\n",
            "Epoch 3/10\n",
            "60000/60000 [==============================] - 10s 159us/sample - loss: 0.3181\n",
            "Epoch 4/10\n",
            "60000/60000 [==============================] - 10s 158us/sample - loss: 0.3278\n",
            "Epoch 5/10\n",
            "60000/60000 [==============================] - 10s 159us/sample - loss: 0.3053\n",
            "Epoch 6/10\n",
            "60000/60000 [==============================] - 9s 157us/sample - loss: 0.3010\n",
            "Epoch 7/10\n",
            "60000/60000 [==============================] - 10s 161us/sample - loss: 0.3063\n",
            "Epoch 8/10\n",
            "60000/60000 [==============================] - 10s 161us/sample - loss: 0.2950\n",
            "Epoch 9/10\n",
            "60000/60000 [==============================] - 9s 158us/sample - loss: 0.2937\n",
            "Epoch 10/10\n",
            "60000/60000 [==============================] - 9s 157us/sample - loss: 0.2928\n"
          ],
          "name": "stdout"
        }
      ]
    },
    {
      "cell_type": "code",
      "metadata": {
        "id": "vQhY0xbi6LhK",
        "colab_type": "code",
        "colab": {
          "base_uri": "https://localhost:8080/",
          "height": 214
        },
        "outputId": "0def3d17-c785-44d6-d2f4-743a2718b67a"
      },
      "source": [
        "fig = plt.figure()\n",
        "image = autoencoder.predict(train_images)\n",
        "for i in range(10):\n",
        "  # 2x5 그리드에 i+1번째 subplot을 추가하고 얻어옴\n",
        "  subplot = fig.add_subplot(2, 5, i + 1)\n",
        "  # x, y 축의 지점 표시를 안함\n",
        "  subplot.set_xticks([])\n",
        "  subplot.set_yticks([])\n",
        "  if i < 5:\n",
        "    subplot.imshow(train_images[i].reshape((28, 28)), cmap=plt.cm.gray_r)\n",
        "  else:\n",
        "    subplot.imshow(image[i].reshape((28, 28)), cmap=plt.cm.gray_r)\n",
        "\n",
        "plt.show()\n"
      ],
      "execution_count": 47,
      "outputs": [
        {
          "output_type": "display_data",
          "data": {
            "image/png": "[encoded data removed]",
            "text/plain": [
              "<Figure size 432x288 with 10 Axes>"
            ]
          },
          "metadata": {
            "tags": []
          }
        }
      ]
    }
  ]
}